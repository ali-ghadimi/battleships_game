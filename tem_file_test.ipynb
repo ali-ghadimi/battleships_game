{
 "metadata": {
  "language_info": {
   "codemirror_mode": {
    "name": "ipython",
    "version": 3
   },
   "file_extension": ".py",
   "mimetype": "text/x-python",
   "name": "python",
   "nbconvert_exporter": "python",
   "pygments_lexer": "ipython3",
   "version": "3.8.3-final"
  },
  "orig_nbformat": 2,
  "kernelspec": {
   "name": "python3",
   "display_name": "Python 3",
   "language": "python"
  }
 },
 "nbformat": 4,
 "nbformat_minor": 2,
 "cells": [
  {
   "source": [
    "'''\n",
    "\n",
    "The fleet consists of 10 ships. The fleet is made up of 4 different types of ships, each of different size as follows:\n",
    "\n",
    "One battleship, occupying 4 squares\n",
    "Two cruisers, each occupying 3 squares\n",
    "Three destroyers, each occupying 2 squares\n",
    "Four submarines, each occupying 1 square\n",
    "\n",
    "\n",
    "ship = (row, column, horizontal (T/F), length, hits = {(row, column)})\n",
    "\n",
    "fleet = [ship1, ship2, ship3, ship4, ship5, ship6, ship7, ship8, ship9, ship10]\n",
    "\n",
    "\n",
    "\n",
    "\n",
    "is_open_sea(row, column, fleet)\n",
    "\n",
    "checks if the square given by row and column neither contains nor is adjacent (horizontally, vertically, or diagonally) to some ship in fleet.\n",
    "Returns Boolean True if so and False otherwise\n",
    "\n",
    "\n",
    "ok_to_place_ship_at(row, column, horizontal, length, fleet)-- checks if addition of a ship, specified by row, column, horizontal, and\n",
    "length as in ship representation above, to the fleet results in a legal arrangement (see the figure above).\n",
    "If so, the function returns Boolean True and it returns False otherwise. This function makes use of the function is_open_sea\n",
    "\n",
    "place_ship_at(row, column, horizontal, length, fleet) -- returns a new fleet that is the result of adding a ship, specified by row, column,\n",
    "horizontal, and length as in ship representation above, to fleet. It may be assumed that the resulting arrangement of the new fleet is legal\n",
    "\n",
    "randomly_place_all_ships() -- returns a fleet that is a result of a random legal arrangement of the 10 ships in the ocean.\n",
    "This function makes use of the functions ok_to_place_ship_at and place_ship_at\n",
    "\n",
    "'''\n",
    "\n"
   ],
   "cell_type": "markdown",
   "metadata": {}
  },
  {
   "cell_type": "code",
   "execution_count": 20,
   "metadata": {},
   "outputs": [
    {
     "output_type": "stream",
     "name": "stdout",
     "text": [
      "[(4, 1, True, 4), (5, 5, False, 3), (5, 2, True, 3), (1, 8, False, 2), (6, 3, False, 2), (7, 0, True, 2), (0, 8, False, 1), (2, 3, False, 1), (0, 8, True, 1), (5, 4, True, 1)]\n"
     ]
    }
   ],
   "source": [
    "fleet = []\n",
    "\n",
    "ocean_squares = set()\n",
    "\n",
    "for i in range (10):\n",
    "    for j in range (10):\n",
    "        ocean_squares.add(i,j)\n",
    "\n",
    "\n",
    "def plot_ocean ():\n",
    "\n",
    "    x_oc = []\n",
    "    y_oc = []\n",
    "\n",
    "    for i , j in ocean_squares:\n",
    "        x_oc.append(i)\n",
    "        y_oc.append(j)\n",
    "    \n",
    "    import matplotlib.pyplot as plt\n",
    "\n",
    "    plot\n",
    "\n",
    "\n",
    "\n",
    "\n",
    "# find the random place of the fleet:\n",
    "\n",
    "\n",
    "def randomly_place_all_ships():\n",
    "    import random\n",
    "    ship = tuple()\n",
    "    ship_dimention = [4, 3, 3, 2, 2, 2, 1, 1, 1, 1]\n",
    "    counter = 0\n",
    "\n",
    "    for j in ship_dimention:\n",
    "        counter += 1\n",
    "        check = False\n",
    "        while check != True:\n",
    "            row = random.randint(0, 9)\n",
    "            column = random.randint(0, 9)\n",
    "            horizontal = bool(random.getrandbits(1))\n",
    "            length = int(j)\n",
    "            check = ok_to_place_ship_at(row, column, horizontal, length, fleet)\n",
    "            if check == True:\n",
    "                fleet.append( (row, column, horizontal, length) )\n",
    "            \n",
    "\n",
    "# Check the corners + using is_open_sea to check if it's legal to place the ship\n",
    "\n",
    "def ok_to_place_ship_at(row, column, horizontal, length, fleet):\n",
    "    if horizontal == True and (row + length-1) <= 9:\n",
    "        \n",
    "\n",
    "    elif horizontal != True and (column + length-1) <= 9:\n",
    "\n",
    "\n",
    "    else:\n",
    "        return False\n",
    "\n",
    "\n",
    "\n",
    "def is_open_sea(row, column, fleet):\n",
    "\n",
    "\n",
    "\n",
    "\n",
    "\n",
    "T = randomly_place_all_ships()\n",
    "print(fleet)\n",
    "\n"
   ]
  },
  {
   "cell_type": "code",
   "execution_count": 41,
   "metadata": {},
   "outputs": [
    {
     "output_type": "display_data",
     "data": {
      "text/plain": "<Figure size 432x288 with 1 Axes>",
      "image/svg+xml": "<?xml version=\"1.0\" encoding=\"utf-8\" standalone=\"no\"?>\n<!DOCTYPE svg PUBLIC \"-//W3C//DTD SVG 1.1//EN\"\n  \"http://www.w3.org/Graphics/SVG/1.1/DTD/svg11.dtd\">\n<!-- Created with matplotlib (https://matplotlib.org/) -->\n<svg height=\"248.518125pt\" version=\"1.1\" viewBox=\"0 0 362.5625 248.518125\" width=\"362.5625pt\" xmlns=\"http://www.w3.org/2000/svg\" xmlns:xlink=\"http://www.w3.org/1999/xlink\">\n <defs>\n  <style type=\"text/css\">\n*{stroke-linecap:butt;stroke-linejoin:round;}\n  </style>\n </defs>\n <g id=\"figure_1\">\n  <g id=\"patch_1\">\n   <path d=\"M 0 248.518125 \nL 362.5625 248.518125 \nL 362.5625 0 \nL 0 0 \nz\n\" style=\"fill:none;\"/>\n  </g>\n  <g id=\"axes_1\">\n   <g id=\"patch_2\">\n    <path d=\"M 20.5625 224.64 \nL 355.3625 224.64 \nL 355.3625 7.2 \nL 20.5625 7.2 \nz\n\" style=\"fill:#ffffff;\"/>\n   </g>\n   <g id=\"PathCollection_1\">\n    <defs>\n     <path d=\"M 0 3 \nC 0.795609 3 1.55874 2.683901 2.12132 2.12132 \nC 2.683901 1.55874 3 0.795609 3 0 \nC 3 -0.795609 2.683901 -1.55874 2.12132 -2.12132 \nC 1.55874 -2.683901 0.795609 -3 0 -3 \nC -0.795609 -3 -1.55874 -2.683901 -2.12132 -2.12132 \nC -2.683901 -1.55874 -3 -0.795609 -3 0 \nC -3 0.795609 -2.683901 1.55874 -2.12132 2.12132 \nC -1.55874 2.683901 -0.795609 3 0 3 \nz\n\" id=\"m7f6ff9c81e\" style=\"stroke:#1f77b4;\"/>\n    </defs>\n    <g clip-path=\"url(#pa0fd3df257)\">\n     <use style=\"fill:#1f77b4;stroke:#1f77b4;\" x=\"171.053409\" xlink:href=\"#m7f6ff9c81e\" y=\"214.756364\"/>\n     <use style=\"fill:#1f77b4;stroke:#1f77b4;\" x=\"171.053409\" xlink:href=\"#m7f6ff9c81e\" y=\"17.083636\"/>\n     <use style=\"fill:#1f77b4;stroke:#1f77b4;\" x=\"137.235227\" xlink:href=\"#m7f6ff9c81e\" y=\"61.010909\"/>\n     <use style=\"fill:#1f77b4;stroke:#1f77b4;\" x=\"204.871591\" xlink:href=\"#m7f6ff9c81e\" y=\"126.901818\"/>\n     <use style=\"fill:#1f77b4;stroke:#1f77b4;\" x=\"171.053409\" xlink:href=\"#m7f6ff9c81e\" y=\"82.974545\"/>\n     <use style=\"fill:#1f77b4;stroke:#1f77b4;\" x=\"204.871591\" xlink:href=\"#m7f6ff9c81e\" y=\"192.792727\"/>\n     <use style=\"fill:#1f77b4;stroke:#1f77b4;\" x=\"306.326136\" xlink:href=\"#m7f6ff9c81e\" y=\"214.756364\"/>\n     <use style=\"fill:#1f77b4;stroke:#1f77b4;\" x=\"340.144318\" xlink:href=\"#m7f6ff9c81e\" y=\"170.829091\"/>\n     <use style=\"fill:#1f77b4;stroke:#1f77b4;\" x=\"306.326136\" xlink:href=\"#m7f6ff9c81e\" y=\"17.083636\"/>\n     <use style=\"fill:#1f77b4;stroke:#1f77b4;\" x=\"340.144318\" xlink:href=\"#m7f6ff9c81e\" y=\"39.047273\"/>\n     <use style=\"fill:#1f77b4;stroke:#1f77b4;\" x=\"35.780682\" xlink:href=\"#m7f6ff9c81e\" y=\"104.938182\"/>\n     <use style=\"fill:#1f77b4;stroke:#1f77b4;\" x=\"103.417045\" xlink:href=\"#m7f6ff9c81e\" y=\"170.829091\"/>\n     <use style=\"fill:#1f77b4;stroke:#1f77b4;\" x=\"306.326136\" xlink:href=\"#m7f6ff9c81e\" y=\"82.974545\"/>\n     <use style=\"fill:#1f77b4;stroke:#1f77b4;\" x=\"69.598864\" xlink:href=\"#m7f6ff9c81e\" y=\"214.756364\"/>\n     <use style=\"fill:#1f77b4;stroke:#1f77b4;\" x=\"69.598864\" xlink:href=\"#m7f6ff9c81e\" y=\"17.083636\"/>\n     <use style=\"fill:#1f77b4;stroke:#1f77b4;\" x=\"103.417045\" xlink:href=\"#m7f6ff9c81e\" y=\"39.047273\"/>\n     <use style=\"fill:#1f77b4;stroke:#1f77b4;\" x=\"272.507955\" xlink:href=\"#m7f6ff9c81e\" y=\"126.901818\"/>\n     <use style=\"fill:#1f77b4;stroke:#1f77b4;\" x=\"238.689773\" xlink:href=\"#m7f6ff9c81e\" y=\"170.829091\"/>\n     <use style=\"fill:#1f77b4;stroke:#1f77b4;\" x=\"272.507955\" xlink:href=\"#m7f6ff9c81e\" y=\"192.792727\"/>\n     <use style=\"fill:#1f77b4;stroke:#1f77b4;\" x=\"238.689773\" xlink:href=\"#m7f6ff9c81e\" y=\"39.047273\"/>\n     <use style=\"fill:#1f77b4;stroke:#1f77b4;\" x=\"171.053409\" xlink:href=\"#m7f6ff9c81e\" y=\"170.829091\"/>\n     <use style=\"fill:#1f77b4;stroke:#1f77b4;\" x=\"137.235227\" xlink:href=\"#m7f6ff9c81e\" y=\"214.756364\"/>\n     <use style=\"fill:#1f77b4;stroke:#1f77b4;\" x=\"137.235227\" xlink:href=\"#m7f6ff9c81e\" y=\"17.083636\"/>\n     <use style=\"fill:#1f77b4;stroke:#1f77b4;\" x=\"204.871591\" xlink:href=\"#m7f6ff9c81e\" y=\"82.974545\"/>\n     <use style=\"fill:#1f77b4;stroke:#1f77b4;\" x=\"171.053409\" xlink:href=\"#m7f6ff9c81e\" y=\"39.047273\"/>\n     <use style=\"fill:#1f77b4;stroke:#1f77b4;\" x=\"137.235227\" xlink:href=\"#m7f6ff9c81e\" y=\"82.974545\"/>\n     <use style=\"fill:#1f77b4;stroke:#1f77b4;\" x=\"204.871591\" xlink:href=\"#m7f6ff9c81e\" y=\"148.865455\"/>\n     <use style=\"fill:#1f77b4;stroke:#1f77b4;\" x=\"306.326136\" xlink:href=\"#m7f6ff9c81e\" y=\"170.829091\"/>\n     <use style=\"fill:#1f77b4;stroke:#1f77b4;\" x=\"340.144318\" xlink:href=\"#m7f6ff9c81e\" y=\"192.792727\"/>\n     <use style=\"fill:#1f77b4;stroke:#1f77b4;\" x=\"35.780682\" xlink:href=\"#m7f6ff9c81e\" y=\"61.010909\"/>\n     <use style=\"fill:#1f77b4;stroke:#1f77b4;\" x=\"103.417045\" xlink:href=\"#m7f6ff9c81e\" y=\"126.901818\"/>\n     <use style=\"fill:#1f77b4;stroke:#1f77b4;\" x=\"306.326136\" xlink:href=\"#m7f6ff9c81e\" y=\"39.047273\"/>\n     <use style=\"fill:#1f77b4;stroke:#1f77b4;\" x=\"69.598864\" xlink:href=\"#m7f6ff9c81e\" y=\"170.829091\"/>\n     <use style=\"fill:#1f77b4;stroke:#1f77b4;\" x=\"35.780682\" xlink:href=\"#m7f6ff9c81e\" y=\"126.901818\"/>\n     <use style=\"fill:#1f77b4;stroke:#1f77b4;\" x=\"103.417045\" xlink:href=\"#m7f6ff9c81e\" y=\"192.792727\"/>\n     <use style=\"fill:#1f77b4;stroke:#1f77b4;\" x=\"69.598864\" xlink:href=\"#m7f6ff9c81e\" y=\"39.047273\"/>\n     <use style=\"fill:#1f77b4;stroke:#1f77b4;\" x=\"238.689773\" xlink:href=\"#m7f6ff9c81e\" y=\"126.901818\"/>\n     <use style=\"fill:#1f77b4;stroke:#1f77b4;\" x=\"272.507955\" xlink:href=\"#m7f6ff9c81e\" y=\"148.865455\"/>\n     <use style=\"fill:#1f77b4;stroke:#1f77b4;\" x=\"137.235227\" xlink:href=\"#m7f6ff9c81e\" y=\"170.829091\"/>\n     <use style=\"fill:#1f77b4;stroke:#1f77b4;\" x=\"171.053409\" xlink:href=\"#m7f6ff9c81e\" y=\"192.792727\"/>\n     <use style=\"fill:#1f77b4;stroke:#1f77b4;\" x=\"137.235227\" xlink:href=\"#m7f6ff9c81e\" y=\"39.047273\"/>\n     <use style=\"fill:#1f77b4;stroke:#1f77b4;\" x=\"204.871591\" xlink:href=\"#m7f6ff9c81e\" y=\"104.938182\"/>\n     <use style=\"fill:#1f77b4;stroke:#1f77b4;\" x=\"306.326136\" xlink:href=\"#m7f6ff9c81e\" y=\"126.901818\"/>\n     <use style=\"fill:#1f77b4;stroke:#1f77b4;\" x=\"340.144318\" xlink:href=\"#m7f6ff9c81e\" y=\"148.865455\"/>\n     <use style=\"fill:#1f77b4;stroke:#1f77b4;\" x=\"306.326136\" xlink:href=\"#m7f6ff9c81e\" y=\"192.792727\"/>\n     <use style=\"fill:#1f77b4;stroke:#1f77b4;\" x=\"35.780682\" xlink:href=\"#m7f6ff9c81e\" y=\"17.083636\"/>\n     <use style=\"fill:#1f77b4;stroke:#1f77b4;\" x=\"69.598864\" xlink:href=\"#m7f6ff9c81e\" y=\"126.901818\"/>\n     <use style=\"fill:#1f77b4;stroke:#1f77b4;\" x=\"35.780682\" xlink:href=\"#m7f6ff9c81e\" y=\"82.974545\"/>\n     <use style=\"fill:#1f77b4;stroke:#1f77b4;\" x=\"103.417045\" xlink:href=\"#m7f6ff9c81e\" y=\"148.865455\"/>\n     <use style=\"fill:#1f77b4;stroke:#1f77b4;\" x=\"238.689773\" xlink:href=\"#m7f6ff9c81e\" y=\"82.974545\"/>\n     <use style=\"fill:#1f77b4;stroke:#1f77b4;\" x=\"272.507955\" xlink:href=\"#m7f6ff9c81e\" y=\"104.938182\"/>\n     <use style=\"fill:#1f77b4;stroke:#1f77b4;\" x=\"238.689773\" xlink:href=\"#m7f6ff9c81e\" y=\"148.865455\"/>\n     <use style=\"fill:#1f77b4;stroke:#1f77b4;\" x=\"137.235227\" xlink:href=\"#m7f6ff9c81e\" y=\"126.901818\"/>\n     <use style=\"fill:#1f77b4;stroke:#1f77b4;\" x=\"171.053409\" xlink:href=\"#m7f6ff9c81e\" y=\"148.865455\"/>\n     <use style=\"fill:#1f77b4;stroke:#1f77b4;\" x=\"137.235227\" xlink:href=\"#m7f6ff9c81e\" y=\"192.792727\"/>\n     <use style=\"fill:#1f77b4;stroke:#1f77b4;\" x=\"204.871591\" xlink:href=\"#m7f6ff9c81e\" y=\"61.010909\"/>\n     <use style=\"fill:#1f77b4;stroke:#1f77b4;\" x=\"340.144318\" xlink:href=\"#m7f6ff9c81e\" y=\"104.938182\"/>\n     <use style=\"fill:#1f77b4;stroke:#1f77b4;\" x=\"35.780682\" xlink:href=\"#m7f6ff9c81e\" y=\"170.829091\"/>\n     <use style=\"fill:#1f77b4;stroke:#1f77b4;\" x=\"306.326136\" xlink:href=\"#m7f6ff9c81e\" y=\"148.865455\"/>\n     <use style=\"fill:#1f77b4;stroke:#1f77b4;\" x=\"69.598864\" xlink:href=\"#m7f6ff9c81e\" y=\"82.974545\"/>\n     <use style=\"fill:#1f77b4;stroke:#1f77b4;\" x=\"35.780682\" xlink:href=\"#m7f6ff9c81e\" y=\"39.047273\"/>\n     <use style=\"fill:#1f77b4;stroke:#1f77b4;\" x=\"103.417045\" xlink:href=\"#m7f6ff9c81e\" y=\"104.938182\"/>\n     <use style=\"fill:#1f77b4;stroke:#1f77b4;\" x=\"69.598864\" xlink:href=\"#m7f6ff9c81e\" y=\"148.865455\"/>\n     <use style=\"fill:#1f77b4;stroke:#1f77b4;\" x=\"272.507955\" xlink:href=\"#m7f6ff9c81e\" y=\"61.010909\"/>\n     <use style=\"fill:#1f77b4;stroke:#1f77b4;\" x=\"238.689773\" xlink:href=\"#m7f6ff9c81e\" y=\"104.938182\"/>\n     <use style=\"fill:#1f77b4;stroke:#1f77b4;\" x=\"171.053409\" xlink:href=\"#m7f6ff9c81e\" y=\"104.938182\"/>\n     <use style=\"fill:#1f77b4;stroke:#1f77b4;\" x=\"137.235227\" xlink:href=\"#m7f6ff9c81e\" y=\"148.865455\"/>\n     <use style=\"fill:#1f77b4;stroke:#1f77b4;\" x=\"204.871591\" xlink:href=\"#m7f6ff9c81e\" y=\"214.756364\"/>\n     <use style=\"fill:#1f77b4;stroke:#1f77b4;\" x=\"204.871591\" xlink:href=\"#m7f6ff9c81e\" y=\"17.083636\"/>\n     <use style=\"fill:#1f77b4;stroke:#1f77b4;\" x=\"340.144318\" xlink:href=\"#m7f6ff9c81e\" y=\"61.010909\"/>\n     <use style=\"fill:#1f77b4;stroke:#1f77b4;\" x=\"306.326136\" xlink:href=\"#m7f6ff9c81e\" y=\"104.938182\"/>\n     <use style=\"fill:#1f77b4;stroke:#1f77b4;\" x=\"340.144318\" xlink:href=\"#m7f6ff9c81e\" y=\"126.901818\"/>\n     <use style=\"fill:#1f77b4;stroke:#1f77b4;\" x=\"35.780682\" xlink:href=\"#m7f6ff9c81e\" y=\"192.792727\"/>\n     <use style=\"fill:#1f77b4;stroke:#1f77b4;\" x=\"103.417045\" xlink:href=\"#m7f6ff9c81e\" y=\"61.010909\"/>\n     <use style=\"fill:#1f77b4;stroke:#1f77b4;\" x=\"69.598864\" xlink:href=\"#m7f6ff9c81e\" y=\"104.938182\"/>\n     <use style=\"fill:#1f77b4;stroke:#1f77b4;\" x=\"238.689773\" xlink:href=\"#m7f6ff9c81e\" y=\"192.792727\"/>\n     <use style=\"fill:#1f77b4;stroke:#1f77b4;\" x=\"272.507955\" xlink:href=\"#m7f6ff9c81e\" y=\"214.756364\"/>\n     <use style=\"fill:#1f77b4;stroke:#1f77b4;\" x=\"272.507955\" xlink:href=\"#m7f6ff9c81e\" y=\"17.083636\"/>\n     <use style=\"fill:#1f77b4;stroke:#1f77b4;\" x=\"238.689773\" xlink:href=\"#m7f6ff9c81e\" y=\"61.010909\"/>\n     <use style=\"fill:#1f77b4;stroke:#1f77b4;\" x=\"272.507955\" xlink:href=\"#m7f6ff9c81e\" y=\"82.974545\"/>\n     <use style=\"fill:#1f77b4;stroke:#1f77b4;\" x=\"171.053409\" xlink:href=\"#m7f6ff9c81e\" y=\"61.010909\"/>\n     <use style=\"fill:#1f77b4;stroke:#1f77b4;\" x=\"137.235227\" xlink:href=\"#m7f6ff9c81e\" y=\"104.938182\"/>\n     <use style=\"fill:#1f77b4;stroke:#1f77b4;\" x=\"204.871591\" xlink:href=\"#m7f6ff9c81e\" y=\"170.829091\"/>\n     <use style=\"fill:#1f77b4;stroke:#1f77b4;\" x=\"171.053409\" xlink:href=\"#m7f6ff9c81e\" y=\"126.901818\"/>\n     <use style=\"fill:#1f77b4;stroke:#1f77b4;\" x=\"340.144318\" xlink:href=\"#m7f6ff9c81e\" y=\"214.756364\"/>\n     <use style=\"fill:#1f77b4;stroke:#1f77b4;\" x=\"204.871591\" xlink:href=\"#m7f6ff9c81e\" y=\"39.047273\"/>\n     <use style=\"fill:#1f77b4;stroke:#1f77b4;\" x=\"306.326136\" xlink:href=\"#m7f6ff9c81e\" y=\"61.010909\"/>\n     <use style=\"fill:#1f77b4;stroke:#1f77b4;\" x=\"69.598864\" xlink:href=\"#m7f6ff9c81e\" y=\"192.792727\"/>\n     <use style=\"fill:#1f77b4;stroke:#1f77b4;\" x=\"35.780682\" xlink:href=\"#m7f6ff9c81e\" y=\"148.865455\"/>\n     <use style=\"fill:#1f77b4;stroke:#1f77b4;\" x=\"103.417045\" xlink:href=\"#m7f6ff9c81e\" y=\"214.756364\"/>\n     <use style=\"fill:#1f77b4;stroke:#1f77b4;\" x=\"340.144318\" xlink:href=\"#m7f6ff9c81e\" y=\"82.974545\"/>\n     <use style=\"fill:#1f77b4;stroke:#1f77b4;\" x=\"103.417045\" xlink:href=\"#m7f6ff9c81e\" y=\"17.083636\"/>\n     <use style=\"fill:#1f77b4;stroke:#1f77b4;\" x=\"69.598864\" xlink:href=\"#m7f6ff9c81e\" y=\"61.010909\"/>\n     <use style=\"fill:#1f77b4;stroke:#1f77b4;\" x=\"103.417045\" xlink:href=\"#m7f6ff9c81e\" y=\"82.974545\"/>\n     <use style=\"fill:#1f77b4;stroke:#1f77b4;\" x=\"272.507955\" xlink:href=\"#m7f6ff9c81e\" y=\"170.829091\"/>\n     <use style=\"fill:#1f77b4;stroke:#1f77b4;\" x=\"238.689773\" xlink:href=\"#m7f6ff9c81e\" y=\"214.756364\"/>\n     <use style=\"fill:#1f77b4;stroke:#1f77b4;\" x=\"238.689773\" xlink:href=\"#m7f6ff9c81e\" y=\"17.083636\"/>\n     <use style=\"fill:#1f77b4;stroke:#1f77b4;\" x=\"272.507955\" xlink:href=\"#m7f6ff9c81e\" y=\"39.047273\"/>\n    </g>\n   </g>\n   <g id=\"matplotlib.axis_1\">\n    <g id=\"xtick_1\">\n     <g id=\"line2d_1\">\n      <defs>\n       <path d=\"M 0 0 \nL 0 3.5 \n\" id=\"m902c20b905\" style=\"stroke:#000000;stroke-width:0.8;\"/>\n      </defs>\n      <g>\n       <use style=\"stroke:#000000;stroke-width:0.8;\" x=\"35.780682\" xlink:href=\"#m902c20b905\" y=\"224.64\"/>\n      </g>\n     </g>\n     <g id=\"text_1\">\n      <!-- 0 -->\n      <defs>\n       <path d=\"M 31.78125 66.40625 \nQ 24.171875 66.40625 20.328125 58.90625 \nQ 16.5 51.421875 16.5 36.375 \nQ 16.5 21.390625 20.328125 13.890625 \nQ 24.171875 6.390625 31.78125 6.390625 \nQ 39.453125 6.390625 43.28125 13.890625 \nQ 47.125 21.390625 47.125 36.375 \nQ 47.125 51.421875 43.28125 58.90625 \nQ 39.453125 66.40625 31.78125 66.40625 \nz\nM 31.78125 74.21875 \nQ 44.046875 74.21875 50.515625 64.515625 \nQ 56.984375 54.828125 56.984375 36.375 \nQ 56.984375 17.96875 50.515625 8.265625 \nQ 44.046875 -1.421875 31.78125 -1.421875 \nQ 19.53125 -1.421875 13.0625 8.265625 \nQ 6.59375 17.96875 6.59375 36.375 \nQ 6.59375 54.828125 13.0625 64.515625 \nQ 19.53125 74.21875 31.78125 74.21875 \nz\n\" id=\"DejaVuSans-48\"/>\n      </defs>\n      <g transform=\"translate(32.599432 239.238437)scale(0.1 -0.1)\">\n       <use xlink:href=\"#DejaVuSans-48\"/>\n      </g>\n     </g>\n    </g>\n    <g id=\"xtick_2\">\n     <g id=\"line2d_2\">\n      <g>\n       <use style=\"stroke:#000000;stroke-width:0.8;\" x=\"103.417045\" xlink:href=\"#m902c20b905\" y=\"224.64\"/>\n      </g>\n     </g>\n     <g id=\"text_2\">\n      <!-- 2 -->\n      <defs>\n       <path d=\"M 19.1875 8.296875 \nL 53.609375 8.296875 \nL 53.609375 0 \nL 7.328125 0 \nL 7.328125 8.296875 \nQ 12.9375 14.109375 22.625 23.890625 \nQ 32.328125 33.6875 34.8125 36.53125 \nQ 39.546875 41.84375 41.421875 45.53125 \nQ 43.3125 49.21875 43.3125 52.78125 \nQ 43.3125 58.59375 39.234375 62.25 \nQ 35.15625 65.921875 28.609375 65.921875 \nQ 23.96875 65.921875 18.8125 64.3125 \nQ 13.671875 62.703125 7.8125 59.421875 \nL 7.8125 69.390625 \nQ 13.765625 71.78125 18.9375 73 \nQ 24.125 74.21875 28.421875 74.21875 \nQ 39.75 74.21875 46.484375 68.546875 \nQ 53.21875 62.890625 53.21875 53.421875 \nQ 53.21875 48.921875 51.53125 44.890625 \nQ 49.859375 40.875 45.40625 35.40625 \nQ 44.1875 33.984375 37.640625 27.21875 \nQ 31.109375 20.453125 19.1875 8.296875 \nz\n\" id=\"DejaVuSans-50\"/>\n      </defs>\n      <g transform=\"translate(100.235795 239.238437)scale(0.1 -0.1)\">\n       <use xlink:href=\"#DejaVuSans-50\"/>\n      </g>\n     </g>\n    </g>\n    <g id=\"xtick_3\">\n     <g id=\"line2d_3\">\n      <g>\n       <use style=\"stroke:#000000;stroke-width:0.8;\" x=\"171.053409\" xlink:href=\"#m902c20b905\" y=\"224.64\"/>\n      </g>\n     </g>\n     <g id=\"text_3\">\n      <!-- 4 -->\n      <defs>\n       <path d=\"M 37.796875 64.3125 \nL 12.890625 25.390625 \nL 37.796875 25.390625 \nz\nM 35.203125 72.90625 \nL 47.609375 72.90625 \nL 47.609375 25.390625 \nL 58.015625 25.390625 \nL 58.015625 17.1875 \nL 47.609375 17.1875 \nL 47.609375 0 \nL 37.796875 0 \nL 37.796875 17.1875 \nL 4.890625 17.1875 \nL 4.890625 26.703125 \nz\n\" id=\"DejaVuSans-52\"/>\n      </defs>\n      <g transform=\"translate(167.872159 239.238437)scale(0.1 -0.1)\">\n       <use xlink:href=\"#DejaVuSans-52\"/>\n      </g>\n     </g>\n    </g>\n    <g id=\"xtick_4\">\n     <g id=\"line2d_4\">\n      <g>\n       <use style=\"stroke:#000000;stroke-width:0.8;\" x=\"238.689773\" xlink:href=\"#m902c20b905\" y=\"224.64\"/>\n      </g>\n     </g>\n     <g id=\"text_4\">\n      <!-- 6 -->\n      <defs>\n       <path d=\"M 33.015625 40.375 \nQ 26.375 40.375 22.484375 35.828125 \nQ 18.609375 31.296875 18.609375 23.390625 \nQ 18.609375 15.53125 22.484375 10.953125 \nQ 26.375 6.390625 33.015625 6.390625 \nQ 39.65625 6.390625 43.53125 10.953125 \nQ 47.40625 15.53125 47.40625 23.390625 \nQ 47.40625 31.296875 43.53125 35.828125 \nQ 39.65625 40.375 33.015625 40.375 \nz\nM 52.59375 71.296875 \nL 52.59375 62.3125 \nQ 48.875 64.0625 45.09375 64.984375 \nQ 41.3125 65.921875 37.59375 65.921875 \nQ 27.828125 65.921875 22.671875 59.328125 \nQ 17.53125 52.734375 16.796875 39.40625 \nQ 19.671875 43.65625 24.015625 45.921875 \nQ 28.375 48.1875 33.59375 48.1875 \nQ 44.578125 48.1875 50.953125 41.515625 \nQ 57.328125 34.859375 57.328125 23.390625 \nQ 57.328125 12.15625 50.6875 5.359375 \nQ 44.046875 -1.421875 33.015625 -1.421875 \nQ 20.359375 -1.421875 13.671875 8.265625 \nQ 6.984375 17.96875 6.984375 36.375 \nQ 6.984375 53.65625 15.1875 63.9375 \nQ 23.390625 74.21875 37.203125 74.21875 \nQ 40.921875 74.21875 44.703125 73.484375 \nQ 48.484375 72.75 52.59375 71.296875 \nz\n\" id=\"DejaVuSans-54\"/>\n      </defs>\n      <g transform=\"translate(235.508523 239.238437)scale(0.1 -0.1)\">\n       <use xlink:href=\"#DejaVuSans-54\"/>\n      </g>\n     </g>\n    </g>\n    <g id=\"xtick_5\">\n     <g id=\"line2d_5\">\n      <g>\n       <use style=\"stroke:#000000;stroke-width:0.8;\" x=\"306.326136\" xlink:href=\"#m902c20b905\" y=\"224.64\"/>\n      </g>\n     </g>\n     <g id=\"text_5\">\n      <!-- 8 -->\n      <defs>\n       <path d=\"M 31.78125 34.625 \nQ 24.75 34.625 20.71875 30.859375 \nQ 16.703125 27.09375 16.703125 20.515625 \nQ 16.703125 13.921875 20.71875 10.15625 \nQ 24.75 6.390625 31.78125 6.390625 \nQ 38.8125 6.390625 42.859375 10.171875 \nQ 46.921875 13.96875 46.921875 20.515625 \nQ 46.921875 27.09375 42.890625 30.859375 \nQ 38.875 34.625 31.78125 34.625 \nz\nM 21.921875 38.8125 \nQ 15.578125 40.375 12.03125 44.71875 \nQ 8.5 49.078125 8.5 55.328125 \nQ 8.5 64.0625 14.71875 69.140625 \nQ 20.953125 74.21875 31.78125 74.21875 \nQ 42.671875 74.21875 48.875 69.140625 \nQ 55.078125 64.0625 55.078125 55.328125 \nQ 55.078125 49.078125 51.53125 44.71875 \nQ 48 40.375 41.703125 38.8125 \nQ 48.828125 37.15625 52.796875 32.3125 \nQ 56.78125 27.484375 56.78125 20.515625 \nQ 56.78125 9.90625 50.3125 4.234375 \nQ 43.84375 -1.421875 31.78125 -1.421875 \nQ 19.734375 -1.421875 13.25 4.234375 \nQ 6.78125 9.90625 6.78125 20.515625 \nQ 6.78125 27.484375 10.78125 32.3125 \nQ 14.796875 37.15625 21.921875 38.8125 \nz\nM 18.3125 54.390625 \nQ 18.3125 48.734375 21.84375 45.5625 \nQ 25.390625 42.390625 31.78125 42.390625 \nQ 38.140625 42.390625 41.71875 45.5625 \nQ 45.3125 48.734375 45.3125 54.390625 \nQ 45.3125 60.0625 41.71875 63.234375 \nQ 38.140625 66.40625 31.78125 66.40625 \nQ 25.390625 66.40625 21.84375 63.234375 \nQ 18.3125 60.0625 18.3125 54.390625 \nz\n\" id=\"DejaVuSans-56\"/>\n      </defs>\n      <g transform=\"translate(303.144886 239.238437)scale(0.1 -0.1)\">\n       <use xlink:href=\"#DejaVuSans-56\"/>\n      </g>\n     </g>\n    </g>\n   </g>\n   <g id=\"matplotlib.axis_2\">\n    <g id=\"ytick_1\">\n     <g id=\"line2d_6\">\n      <defs>\n       <path d=\"M 0 0 \nL -3.5 0 \n\" id=\"mfc464b7c9b\" style=\"stroke:#000000;stroke-width:0.8;\"/>\n      </defs>\n      <g>\n       <use style=\"stroke:#000000;stroke-width:0.8;\" x=\"20.5625\" xlink:href=\"#mfc464b7c9b\" y=\"214.756364\"/>\n      </g>\n     </g>\n     <g id=\"text_6\">\n      <!-- 0 -->\n      <g transform=\"translate(7.2 218.555582)scale(0.1 -0.1)\">\n       <use xlink:href=\"#DejaVuSans-48\"/>\n      </g>\n     </g>\n    </g>\n    <g id=\"ytick_2\">\n     <g id=\"line2d_7\">\n      <g>\n       <use style=\"stroke:#000000;stroke-width:0.8;\" x=\"20.5625\" xlink:href=\"#mfc464b7c9b\" y=\"170.829091\"/>\n      </g>\n     </g>\n     <g id=\"text_7\">\n      <!-- 2 -->\n      <g transform=\"translate(7.2 174.62831)scale(0.1 -0.1)\">\n       <use xlink:href=\"#DejaVuSans-50\"/>\n      </g>\n     </g>\n    </g>\n    <g id=\"ytick_3\">\n     <g id=\"line2d_8\">\n      <g>\n       <use style=\"stroke:#000000;stroke-width:0.8;\" x=\"20.5625\" xlink:href=\"#mfc464b7c9b\" y=\"126.901818\"/>\n      </g>\n     </g>\n     <g id=\"text_8\">\n      <!-- 4 -->\n      <g transform=\"translate(7.2 130.701037)scale(0.1 -0.1)\">\n       <use xlink:href=\"#DejaVuSans-52\"/>\n      </g>\n     </g>\n    </g>\n    <g id=\"ytick_4\">\n     <g id=\"line2d_9\">\n      <g>\n       <use style=\"stroke:#000000;stroke-width:0.8;\" x=\"20.5625\" xlink:href=\"#mfc464b7c9b\" y=\"82.974545\"/>\n      </g>\n     </g>\n     <g id=\"text_9\">\n      <!-- 6 -->\n      <g transform=\"translate(7.2 86.773764)scale(0.1 -0.1)\">\n       <use xlink:href=\"#DejaVuSans-54\"/>\n      </g>\n     </g>\n    </g>\n    <g id=\"ytick_5\">\n     <g id=\"line2d_10\">\n      <g>\n       <use style=\"stroke:#000000;stroke-width:0.8;\" x=\"20.5625\" xlink:href=\"#mfc464b7c9b\" y=\"39.047273\"/>\n      </g>\n     </g>\n     <g id=\"text_10\">\n      <!-- 8 -->\n      <g transform=\"translate(7.2 42.846491)scale(0.1 -0.1)\">\n       <use xlink:href=\"#DejaVuSans-56\"/>\n      </g>\n     </g>\n    </g>\n   </g>\n   <g id=\"patch_3\">\n    <path d=\"M 20.5625 224.64 \nL 20.5625 7.2 \n\" style=\"fill:none;stroke:#000000;stroke-linecap:square;stroke-linejoin:miter;stroke-width:0.8;\"/>\n   </g>\n   <g id=\"patch_4\">\n    <path d=\"M 355.3625 224.64 \nL 355.3625 7.2 \n\" style=\"fill:none;stroke:#000000;stroke-linecap:square;stroke-linejoin:miter;stroke-width:0.8;\"/>\n   </g>\n   <g id=\"patch_5\">\n    <path d=\"M 20.5625 224.64 \nL 355.3625 224.64 \n\" style=\"fill:none;stroke:#000000;stroke-linecap:square;stroke-linejoin:miter;stroke-width:0.8;\"/>\n   </g>\n   <g id=\"patch_6\">\n    <path d=\"M 20.5625 7.2 \nL 355.3625 7.2 \n\" style=\"fill:none;stroke:#000000;stroke-linecap:square;stroke-linejoin:miter;stroke-width:0.8;\"/>\n   </g>\n  </g>\n </g>\n <defs>\n  <clipPath id=\"pa0fd3df257\">\n   <rect height=\"217.44\" width=\"334.8\" x=\"20.5625\" y=\"7.2\"/>\n  </clipPath>\n </defs>\n</svg>\n",
      "image/png": "[encoded data removed]"
     },
     "metadata": {
      "needs_background": "light"
     }
    }
   ],
   "source": [
    "import matplotlib.pyplot as plt\n",
    "ocean_squares = set()\n",
    "\n",
    "for i in range (10):\n",
    "    for j in range (10):\n",
    "        ocean_squares.add((i,j))\n",
    "\n",
    "\n",
    "ocean_squares = ocean_squares - {(0,0), (9,9)}\n",
    "\n",
    "def plot_ocean ():\n",
    "\n",
    "    x_oc = []\n",
    "    y_oc = []\n",
    "\n",
    "    for i , j in ocean_squares:\n",
    "        x_oc.append(i)\n",
    "        y_oc.append(j)\n",
    "    \n",
    "    import matplotlib.pyplot as plt\n",
    "\n",
    "    plt.scatter(x_oc, y_oc)\n",
    "    plt.show()\n",
    "\n",
    "plot_ocean()\n",
    "\n",
    "\n"
   ]
  },
  {
   "cell_type": "code",
   "execution_count": 22,
   "metadata": {},
   "outputs": [
    {
     "output_type": "stream",
     "name": "stdout",
     "text": [
      "0\n1\n2\n3\n"
     ]
    }
   ],
   "source": [
    "for i in range(4):\n",
    "    print(i)"
   ]
  },
  {
   "cell_type": "code",
   "execution_count": null,
   "metadata": {},
   "outputs": [],
   "source": [
    "\n",
    "\n",
    "\n",
    "def is_open_sea(row, column, fleet):\n",
    "    #remove pass and add your implementation\n",
    "    pass\n",
    "\n",
    "def ok_to_place_ship_at(row, column, horizontal, length, fleet):\n",
    "    #remove pass and add your implementation\n",
    "    pass\n",
    "\n",
    "def place_ship_at(row, column, horizontal, length, fleet):\n",
    "    #remove pass and add your implementation\n",
    "    pass"
   ]
  },
  {
   "cell_type": "code",
   "execution_count": null,
   "metadata": {},
   "outputs": [],
   "source": []
  },
  {
   "cell_type": "code",
   "execution_count": 42,
   "metadata": {},
   "outputs": [
    {
     "output_type": "error",
     "ename": "NameError",
     "evalue": "name 'nx' is not defined",
     "traceback": [
      "\u001b[0;31m---------------------------------------------------------------------------\u001b[0m",
      "\u001b[0;31mNameError\u001b[0m                                 Traceback (most recent call last)",
      "\u001b[0;32m<ipython-input-42-1296914ab34c>\u001b[0m in \u001b[0;36m<module>\u001b[0;34m\u001b[0m\n\u001b[1;32m      2\u001b[0m \u001b[0mdt\u001b[0m\u001b[0;34m=\u001b[0m\u001b[0;34m[\u001b[0m\u001b[0;34m(\u001b[0m\u001b[0;34m'weight'\u001b[0m\u001b[0;34m,\u001b[0m\u001b[0mfloat\u001b[0m\u001b[0;34m)\u001b[0m\u001b[0;34m,\u001b[0m\u001b[0;34m(\u001b[0m\u001b[0;34m'cost'\u001b[0m\u001b[0;34m,\u001b[0m\u001b[0mint\u001b[0m\u001b[0;34m)\u001b[0m\u001b[0;34m]\u001b[0m\u001b[0;34m\u001b[0m\u001b[0;34m\u001b[0m\u001b[0m\n\u001b[1;32m      3\u001b[0m \u001b[0mA\u001b[0m\u001b[0;34m=\u001b[0m\u001b[0mnumpy\u001b[0m\u001b[0;34m.\u001b[0m\u001b[0mmatrix\u001b[0m\u001b[0;34m(\u001b[0m\u001b[0;34m[\u001b[0m\u001b[0;34m[\u001b[0m\u001b[0;34m(\u001b[0m\u001b[0;36m1.0\u001b[0m\u001b[0;34m,\u001b[0m\u001b[0;36m2\u001b[0m\u001b[0;34m)\u001b[0m\u001b[0;34m]\u001b[0m\u001b[0;34m]\u001b[0m\u001b[0;34m,\u001b[0m\u001b[0mdtype\u001b[0m\u001b[0;34m=\u001b[0m\u001b[0mdt\u001b[0m\u001b[0;34m)\u001b[0m\u001b[0;34m\u001b[0m\u001b[0;34m\u001b[0m\u001b[0m\n\u001b[0;32m----> 4\u001b[0;31m \u001b[0mG\u001b[0m\u001b[0;34m=\u001b[0m\u001b[0mnx\u001b[0m\u001b[0;34m.\u001b[0m\u001b[0mfrom_numpy_matrix\u001b[0m\u001b[0;34m(\u001b[0m\u001b[0mA\u001b[0m\u001b[0;34m)\u001b[0m\u001b[0;34m\u001b[0m\u001b[0;34m\u001b[0m\u001b[0m\n\u001b[0m\u001b[1;32m      5\u001b[0m \u001b[0mG\u001b[0m\u001b[0;34m.\u001b[0m\u001b[0medges\u001b[0m\u001b[0;34m(\u001b[0m\u001b[0mdata\u001b[0m\u001b[0;34m=\u001b[0m\u001b[0;32mTrue\u001b[0m\u001b[0;34m)\u001b[0m\u001b[0;34m\u001b[0m\u001b[0;34m\u001b[0m\u001b[0m\n\u001b[1;32m      6\u001b[0m \u001b[0;34m[\u001b[0m\u001b[0;34m(\u001b[0m\u001b[0;36m0\u001b[0m\u001b[0;34m,\u001b[0m \u001b[0;36m0\u001b[0m\u001b[0;34m,\u001b[0m \u001b[0;34m{\u001b[0m\u001b[0;34m'cost'\u001b[0m\u001b[0;34m:\u001b[0m \u001b[0;36m2\u001b[0m\u001b[0;34m,\u001b[0m \u001b[0;34m'weight'\u001b[0m\u001b[0;34m:\u001b[0m \u001b[0;36m1.0\u001b[0m\u001b[0;34m}\u001b[0m\u001b[0;34m)\u001b[0m\u001b[0;34m]\u001b[0m\u001b[0;34m\u001b[0m\u001b[0;34m\u001b[0m\u001b[0m\n",
      "\u001b[0;31mNameError\u001b[0m: name 'nx' is not defined"
     ]
    }
   ],
   "source": []
  }
 ]
}